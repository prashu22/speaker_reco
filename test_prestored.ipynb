{
 "cells": [
  {
   "cell_type": "code",
   "execution_count": 41,
   "metadata": {},
   "outputs": [
    {
     "name": "stdout",
     "output_type": "stream",
     "text": [
      "(80000,)\n",
      "a5.wav -14490.401132567775\n",
      "b5.wav -14406.359089904992\n",
      "c5.wav -15280.731600226754\n",
      "d5.wav -9967.711806235093\n",
      "e5.wav -13572.594790605737\n",
      "\tdetected as -  d5.wav\n"
     ]
    }
   ],
   "source": [
    "import os\n",
    "import pickle\n",
    "import numpy as np\n",
    "from scipy.io.wavfile import read\n",
    "import warnings\n",
    "warnings.filterwarnings(\"ignore\")\n",
    "import time\n",
    "from sklearn import preprocessing\n",
    "import python_speech_features as mfcc\n",
    "\n",
    "def extract_features(audio,rate):\n",
    "    \"\"\"extract 20 dim mfcc features from an audio, performs CMS and combines \n",
    "    delta to make it 40 dim feature vector\"\"\"    \n",
    "    \n",
    "    mfcc_feat = mfcc.mfcc(audio,rate, 0.025, 0.01,20,appendEnergy = True)    \n",
    "    mfcc_feat = preprocessing.scale(mfcc_feat)\n",
    "    return mfcc_feat\n",
    "\n",
    "#Load the Gaussian gender Models\n",
    "modelpath = \"C:\\\\Users\\\\Prashu Gupta\\\\Downloads\\\\datasets\\\\development_set\\\\1newdata\\\\model\\\\\"\n",
    "gmm_files = [os.path.join(modelpath,fname) for fname in \n",
    "              os.listdir(modelpath) if fname.endswith('.gmm')]\n",
    "\n",
    "models    = [pickle.load(open(fname,'rb')) for fname in gmm_files]\n",
    "speakers   = [fname.split(\"\\\\\")[-1].split(\".gmm\")[0] for fname \n",
    "              in gmm_files]\n",
    "\n",
    "# Read the test directory and get the list of test audio files \n",
    "sr,audio = read(\"C:\\\\Users\\\\Prashu Gupta\\\\Downloads\\\\datasets\\\\development_set\\\\1newdata\\\\d3.wav\")\n",
    "print(audio.shape)\n",
    "vector   = extract_features(audio,sr)\n",
    "log_likelihood = np.zeros(len(models)) \n",
    "    \n",
    "for i in range(len(models)):\n",
    "    gmm    = models[i]  #checking with each model one by one\n",
    "    scores = np.array(gmm.score(vector))\n",
    "    log_likelihood[i] = scores.sum()\n",
    "    print(speakers[i],log_likelihood[i])\n",
    "winner = np.argmax(log_likelihood)\n",
    "print (\"\\tdetected as - \", speakers[winner])\n",
    "time.sleep(1.0)"
   ]
  },
  {
   "cell_type": "code",
   "execution_count": null,
   "metadata": {},
   "outputs": [],
   "source": []
  },
  {
   "cell_type": "code",
   "execution_count": null,
   "metadata": {},
   "outputs": [],
   "source": []
  }
 ],
 "metadata": {
  "kernelspec": {
   "display_name": "Python 3",
   "language": "python",
   "name": "python3"
  },
  "language_info": {
   "codemirror_mode": {
    "name": "ipython",
    "version": 3
   },
   "file_extension": ".py",
   "mimetype": "text/x-python",
   "name": "python",
   "nbconvert_exporter": "python",
   "pygments_lexer": "ipython3",
   "version": "3.6.5"
  }
 },
 "nbformat": 4,
 "nbformat_minor": 2
}
