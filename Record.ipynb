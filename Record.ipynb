{
 "cells": [
  {
   "cell_type": "code",
   "execution_count": 1,
   "metadata": {},
   "outputs": [],
   "source": [
    "import pyaudio\n",
    "import wave\n",
    "import os\n",
    "from tkinter import *\n",
    "from tkinter import messagebox\n",
    "\n",
    "def check(eno,sheet):\n",
    "    maxrow=sheet.max_row\n",
    "    i=1\n",
    "    for i in range(1,maxrow+1):\n",
    "        if(sheet.cell(row=i,column=2).value==eno):\n",
    "            return True\n",
    "    return False\n",
    "\n",
    "def record(eno,number,root,sheet):\n",
    "    eno=int(eno)\n",
    "    if(check(eno,sheet)):\n",
    "        messagebox.showwarning(\"Error\", \"Enrollment Number already present\")\n",
    "        return\n",
    "    CHUNK = 1024\n",
    "    FORMAT = pyaudio.paInt16\n",
    "    CHANNELS = 2\n",
    "    RATE = 44100\n",
    "    RECORD_SECONDS = 5\n",
    "    WAVE_OUTPUT_FILENAME = \"C:\\\\Users\\\\Prashu Gupta\\\\Desktop\\\\project\\\\Final_dataset\\\\\"+str(eno)+\"\\\\\"\n",
    "    p = pyaudio.PyAudio()\n",
    "    stream = p.open(format=FORMAT,\n",
    "                channels=CHANNELS,\n",
    "                rate=RATE,\n",
    "                input=True,\n",
    "                frames_per_buffer=CHUNK)\n",
    "    if not os.path.exists(WAVE_OUTPUT_FILENAME):\n",
    "        os.makedirs(WAVE_OUTPUT_FILENAME)\n",
    "    WAVE_OUTPUT_FILENAME=WAVE_OUTPUT_FILENAME+number+\".wav\"\n",
    "    print(\"* recording\")\n",
    "    frames = [] \n",
    "    for i in range(0, int(RATE / CHUNK * RECORD_SECONDS)):\n",
    "        data = stream.read(CHUNK)\n",
    "        frames.append(data)\n",
    "    print(\"* done recording\")\n",
    "    stream.stop_stream()\n",
    "    stream.close()\n",
    "    p.terminate()\n",
    "    lab = Label(root, anchor=\"center\",text=number)\n",
    "    lab.pack(fill=X,side=TOP)\n",
    "    wf = wave.open(WAVE_OUTPUT_FILENAME, 'wb')\n",
    "    wf.setnchannels(CHANNELS)\n",
    "    wf.setsampwidth(p.get_sample_size(FORMAT))\n",
    "    wf.setframerate(RATE)\n",
    "    wf.writeframes(b''.join(frames))\n",
    "    wf.close()\n"
   ]
  },
  {
   "cell_type": "code",
   "execution_count": null,
   "metadata": {},
   "outputs": [],
   "source": []
  }
 ],
 "metadata": {
  "kernelspec": {
   "display_name": "Python 3",
   "language": "python",
   "name": "python3"
  },
  "language_info": {
   "codemirror_mode": {
    "name": "ipython",
    "version": 3
   },
   "file_extension": ".py",
   "mimetype": "text/x-python",
   "name": "python",
   "nbconvert_exporter": "python",
   "pygments_lexer": "ipython3",
   "version": "3.6.5"
  }
 },
 "nbformat": 4,
 "nbformat_minor": 2
}
