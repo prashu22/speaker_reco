{
 "cells": [
  {
   "cell_type": "code",
   "execution_count": 6,
   "metadata": {},
   "outputs": [
    {
     "name": "stdout",
     "output_type": "stream",
     "text": [
      "1 -23.437155272198655\n",
      "2 -24.954984449498173\n",
      "3 -22.89729543973393\n",
      "4 -20.892246785402943\n",
      "5 -22.628130451143424\n",
      "9 -22.503839402143775\n",
      "\tdetected as -  4\n"
     ]
    }
   ],
   "source": [
    "from tkinter import *\n",
    "from tkinter import messagebox\n",
    "\n",
    "import openpyxl\n",
    "wb= openpyxl.load_workbook('C:\\\\Users\\\\Prashu Gupta\\\\Desktop\\\\project\\\\Final_dataset\\\\excel.xlsx')\n",
    "\n",
    "window = Tk()\n",
    "window.geometry(\"400x400\")\n",
    "window.title(\"Attendance\")\n",
    "l1 = Label(window,text=\"Name\")\n",
    "l1.grid(row=0,column=0,columnspan=2,pady = 5)\n",
    "l2 = Label(window,text=\"Enroll No.\")\n",
    "l2.grid(row=1,column=0,columnspan=2,pady = 5)\n",
    "l3 = Label(window,text=\"Mobile\")\n",
    "l3.grid(row=2,column=0,columnspan=2,pady = 5)\n",
    "l4 = Label(window,text=\"Address\")\n",
    "l4.grid(row=3,column=0,columnspan=2,pady = 5)\n",
    "\n",
    "name=StringVar()\n",
    "e1 = Entry(window,textvariable=name,width=50)\n",
    "e1.grid(row=0,column=2,columnspan=10,)\n",
    "e1.config(state=DISABLED)\n",
    "\n",
    "eno=StringVar()\n",
    "e2 = Entry(window,textvariable=eno,width=50)\n",
    "e2.grid(row=1,column=2,columnspan=10)\n",
    "e2.config(state=DISABLED)\n",
    "\n",
    "mobile=StringVar()\n",
    "e3 = Entry(window,textvariable=mobile,width=50)\n",
    "e3.grid(row=2,column=2,columnspan=10)\n",
    "e3.config(state=DISABLED)\n",
    "\n",
    "address=StringVar()\n",
    "e4 = Entry(window,textvariable=address,width=50)\n",
    "e4.grid(row=3,column=2,columnspan=10)\n",
    "e4.config(state=DISABLED)\n",
    "\n",
    "def mainpro():\n",
    "    search= Button(window,text=\"Search\",width=12,command=find)\n",
    "    search.grid(row=4,column=3)\n",
    "    b7 = Button(window,text=\"Next\",width=12)\n",
    "    b7.grid(row=4,column=6)\n",
    "    window.mainloop()\n",
    "\n",
    "def find():\n",
    "    %run ./realtime_test.ipynb\n",
    "    a=int(mainpro())\n",
    "    sheet=wb.active\n",
    "    maxrow=sheet.max_row\n",
    "    i=1\n",
    "    for i in range(1,maxrow+1):\n",
    "        if(sheet.cell(row=i,column=2).value==a):\n",
    "            name.set(sheet.cell(row=i,column=1).value)\n",
    "            eno.set(sheet.cell(row=i,column=2).value)\n",
    "            mobile.set(sheet.cell(row=i,column=4).value)\n",
    "            address.set(sheet.cell(row=i,column=3).value)\n",
    "            break\n",
    "    if(i>=maxrow):\n",
    "        messagebox.showwarning(\"Not found\", \"Out of database\")\n",
    "mainpro()"
   ]
  },
  {
   "cell_type": "code",
   "execution_count": null,
   "metadata": {},
   "outputs": [],
   "source": []
  }
 ],
 "metadata": {
  "kernelspec": {
   "display_name": "Python 3",
   "language": "python",
   "name": "python3"
  },
  "language_info": {
   "codemirror_mode": {
    "name": "ipython",
    "version": 3
   },
   "file_extension": ".py",
   "mimetype": "text/x-python",
   "name": "python",
   "nbconvert_exporter": "python",
   "pygments_lexer": "ipython3",
   "version": "3.6.5"
  }
 },
 "nbformat": 4,
 "nbformat_minor": 2
}
