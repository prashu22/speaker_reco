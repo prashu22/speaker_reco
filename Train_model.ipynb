{
 "cells": [
  {
   "cell_type": "code",
   "execution_count": 1,
   "metadata": {},
   "outputs": [
    {
     "name": "stdout",
     "output_type": "stream",
     "text": [
      " modeling completed for speaker: C:\\Users\\Prashu Gupta\\Desktop\\project\\Final_dataset\\Models\\10.gmm  with data point =  (1994, 40)\n"
     ]
    }
   ],
   "source": [
    "import os\n",
    "import pickle\n",
    "import numpy as np\n",
    "from scipy.io.wavfile import read\n",
    "from sklearn.mixture import GaussianMixture \n",
    "import numpy as np\n",
    "from sklearn import preprocessing\n",
    "import python_speech_features as mfcc\n",
    "import warnings\n",
    "warnings.filterwarnings(\"ignore\")\n",
    "\n",
    "def calculate_delta(array):\n",
    "    rows,cols = array.shape\n",
    "    deltas = np.zeros((rows,20))\n",
    "    N = 2\n",
    "    for i in range(rows):\n",
    "        index = []\n",
    "        j = 1\n",
    "        while j <= N:\n",
    "            if i-j < 0:\n",
    "              first =0\n",
    "            else:\n",
    "              first = i-j\n",
    "            if i+j > rows-1:\n",
    "                second = rows-1\n",
    "            else:\n",
    "                second = i+j \n",
    "            index.append((second,first))\n",
    "            j+=1\n",
    "        deltas[i] = ( array[index[0][0]]-array[index[0][1]] + (2 * (array[index[1][0]]-array[index[1][1]])) ) / 10\n",
    "    return deltas\n",
    "\n",
    "def extract_features(audio,rate):\n",
    "    mfcc_feat = mfcc.mfcc(audio,rate, 0.025, 0.01,20,nfft=1126,appendEnergy = True)    \n",
    "    mfcc_feat = preprocessing.scale(mfcc_feat)\n",
    "    delta = calculate_delta(mfcc_feat)\n",
    "    combined = np.hstack((mfcc_feat,delta)) \n",
    "    return combined\n",
    "def train(eno):\n",
    "    #path to training data\n",
    "    source   = \"C:\\\\Users\\\\Prashu Gupta\\\\Desktop\\\\project\\\\Final_dataset\\\\\"+eno+\"\\\\\"   \n",
    "    files    = [os.path.join(source,f) for f in os.listdir(source) if\n",
    "             f.endswith('.wav')]\n",
    "    features = np.asarray(())\n",
    "    for path in files:\n",
    "        path = path.strip()  #The strip() method returns a copy of the string with both leading and trailing characters removed\n",
    "        # read the audio\n",
    "        sr,audio = read(path)\n",
    "        vector   = extract_features(audio,sr)\n",
    "        if features.size == 0:\n",
    "            features = vector\n",
    "        else:\n",
    "            features = np.vstack((features, vector))\n",
    "        # when features of 5 files of speaker are concatenated, then do model training\n",
    "    gmm = GaussianMixture(n_components = 16, max_iter = 200, covariance_type='diag',n_init = 3)\n",
    "    gmm.fit(features)\n",
    "    # dumping the trained gaussian model\n",
    "    picklefile = \"C:\\\\Users\\\\Prashu Gupta\\\\Desktop\\\\project\\\\Final_dataset\\\\Models\\\\\"+eno+\".gmm\"\n",
    "    pickle.dump(gmm,open( picklefile,'wb'))\n",
    "    print(' modeling completed for speaker:',picklefile,\" with data point = \",features.shape)\n",
    "train(\"10\")"
   ]
  },
  {
   "cell_type": "code",
   "execution_count": null,
   "metadata": {},
   "outputs": [],
   "source": []
  },
  {
   "cell_type": "code",
   "execution_count": null,
   "metadata": {},
   "outputs": [],
   "source": []
  }
 ],
 "metadata": {
  "kernelspec": {
   "display_name": "Python 3",
   "language": "python",
   "name": "python3"
  },
  "language_info": {
   "codemirror_mode": {
    "name": "ipython",
    "version": 3
   },
   "file_extension": ".py",
   "mimetype": "text/x-python",
   "name": "python",
   "nbconvert_exporter": "python",
   "pygments_lexer": "ipython3",
   "version": "3.6.5"
  }
 },
 "nbformat": 4,
 "nbformat_minor": 2
}
